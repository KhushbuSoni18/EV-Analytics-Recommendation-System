{
  "nbformat": 4,
  "nbformat_minor": 0,
  "metadata": {
    "colab": {
      "provenance": []
    },
    "kernelspec": {
      "name": "python3",
      "display_name": "Python 3"
    },
    "language_info": {
      "name": "python"
    }
  },
  "cells": [
    {
      "cell_type": "markdown",
      "source": [
        "##            **Electric Vehicle Data Analysis Project**\n",
        "\n",
        "\n",
        "\n",
        "\n",
        "\n",
        "\n"
      ],
      "metadata": {
        "id": "L1BK9EGVznTm"
      }
    },
    {
      "cell_type": "markdown",
      "source": [
        "##  **Objective**\n",
        "\n",
        "Analyze the electric vehicle dataset to identify key factors affecting electric range, energy consumption, pricing and battery capacity and provide actionable recommendations."
      ],
      "metadata": {
        "id": "XKez7diWnpxs"
      }
    },
    {
      "cell_type": "markdown",
      "source": [
        "\n",
        "\n",
        "```\n",
        "# Here is my video link below ⬇:\n",
        "```\n",
        "\n"
      ],
      "metadata": {
        "id": "NK3C1IVkNh7I"
      }
    },
    {
      "cell_type": "code",
      "source": [
        "https://drive.google.com/file/d/1g4hpu9mNyLYMbGvwmmrwNjzDCG3y68AE/view?usp=sharing\n"
      ],
      "metadata": {
        "id": "kfPjPXOvNf7T"
      },
      "execution_count": null,
      "outputs": []
    },
    {
      "cell_type": "markdown",
      "source": [
        "`## Importing a libraries of Python`"
      ],
      "metadata": {
        "id": "mUJpx02Igffj"
      }
    },
    {
      "cell_type": "code",
      "execution_count": null,
      "metadata": {
        "id": "F9L51DBZ-Zuq"
      },
      "outputs": [],
      "source": [
        "import pandas as pd"
      ]
    },
    {
      "cell_type": "code",
      "source": [
        "import matplotlib.pyplot as plt"
      ],
      "metadata": {
        "id": "oFk7l__kQM6A"
      },
      "execution_count": null,
      "outputs": []
    },
    {
      "cell_type": "code",
      "source": [
        "import seaborn as sns"
      ],
      "metadata": {
        "id": "TQwhv1L0QM37"
      },
      "execution_count": null,
      "outputs": []
    },
    {
      "cell_type": "code",
      "source": [
        "import numpy as np"
      ],
      "metadata": {
        "id": "SqUbA_gPQKJO"
      },
      "execution_count": null,
      "outputs": []
    },
    {
      "cell_type": "code",
      "source": [
        "## Importing a excel file into notebook usnig pandas"
      ],
      "metadata": {
        "id": "VTKnYP-n0Y6M"
      },
      "execution_count": null,
      "outputs": []
    },
    {
      "cell_type": "code",
      "source": [
        "FEV_df=pd.read_excel(\"/content/drive/MyDrive/FEV_data.xlsx\")"
      ],
      "metadata": {
        "id": "telhCv1x_exu"
      },
      "execution_count": null,
      "outputs": []
    },
    {
      "cell_type": "code",
      "source": [
        "print(FEV_df.tail())    ## top 5 rows"
      ],
      "metadata": {
        "colab": {
          "base_uri": "https://localhost:8080/"
        },
        "id": "q8Bw4NQJQm0P",
        "outputId": "67d2d708-caf5-4123-c8db-8f3bbdabd07c"
      },
      "execution_count": null,
      "outputs": [
        {
          "output_type": "stream",
          "name": "stdout",
          "text": [
            "                Car full name           Make              Model  \\\n",
            "48      Volkswagen ID.3 Pro S     Volkswagen         ID.3 Pro S   \n",
            "49        Volkswagen ID.4 1st     Volkswagen           ID.4 1st   \n",
            "50  Citroën ë-Spacetourer (M)        Citroën  ë-Spacetourer (M)   \n",
            "51   Mercedes-Benz EQV (long)  Mercedes-Benz         EQV (long)   \n",
            "52      Nissan e-NV200 evalia         Nissan     e-NV200 evalia   \n",
            "\n",
            "    Minimal price (gross) [PLN]  Engine power [KM]  Maximum torque [Nm]  \\\n",
            "48                       179990                204                  310   \n",
            "49                       202390                204                  310   \n",
            "50                       215400                136                  260   \n",
            "51                       339480                204                  362   \n",
            "52                       164328                109                  254   \n",
            "\n",
            "                Type of brakes   Drive type  Battery capacity [kWh]  \\\n",
            "48  disc (front) + drum (rear)   2WD (rear)                    77.0   \n",
            "49  disc (front) + drum (rear)   2WD (rear)                    77.0   \n",
            "50         disc (front + rear)  2WD (front)                    50.0   \n",
            "51                         NaN  2WD (front)                    90.0   \n",
            "52         disc (front + rear)  2WD (front)                    40.0   \n",
            "\n",
            "    Range (WLTP) [km]  ...  Permissable gross weight [kg]  \\\n",
            "48                549  ...                         2280.0   \n",
            "49                500  ...                         2660.0   \n",
            "50                230  ...                         2810.0   \n",
            "51                356  ...                         3500.0   \n",
            "52                200  ...                         2250.0   \n",
            "\n",
            "    Maximum load capacity [kg]  Number of seats  Number of doors  \\\n",
            "48                       412.0                5                5   \n",
            "49                       661.0                5                5   \n",
            "50                      1056.0                8                5   \n",
            "51                       865.0                6                5   \n",
            "52                       658.0                5                5   \n",
            "\n",
            "    Tire size [in]  Maximum speed [kph]  Boot capacity (VDA) [l]  \\\n",
            "48              19                  160                    385.0   \n",
            "49              20                  160                    543.0   \n",
            "50              16                  130                    603.0   \n",
            "51              17                  160                      NaN   \n",
            "52              15                  123                    870.0   \n",
            "\n",
            "    Acceleration 0-100 kph [s]  Maximum DC charging power [kW]  \\\n",
            "48                         7.9                             125   \n",
            "49                         8.5                             125   \n",
            "50                        13.1                             100   \n",
            "51                         NaN                             110   \n",
            "52                         NaN                              50   \n",
            "\n",
            "    mean - Energy consumption [kWh/100 km]  \n",
            "48                                    15.9  \n",
            "49                                    18.0  \n",
            "50                                    25.2  \n",
            "51                                    28.2  \n",
            "52                                    25.9  \n",
            "\n",
            "[5 rows x 25 columns]\n"
          ]
        }
      ]
    },
    {
      "cell_type": "markdown",
      "source": [
        "## TASK 1\n"
      ],
      "metadata": {
        "id": "yA06WtGUgx-O"
      }
    },
    {
      "cell_type": "markdown",
      "source": [
        "\n",
        "\n",
        "```\n",
        "# a)\n",
        "## Filter out EVs based on price and range criteria\n",
        "## budget of 350,000 PLN and EV with a range of 400\n",
        "```\n",
        "\n"
      ],
      "metadata": {
        "id": "vrV7Z6JbEhQr"
      }
    },
    {
      "cell_type": "code",
      "source": [
        "Filter_EVs = FEV_df[(FEV_df['Minimal price (gross) [PLN]'] <= 350000) &\n",
        "(FEV_df['Range (WLTP) [km]'] >= 400)]"
      ],
      "metadata": {
        "id": "3agdHEIggzgL"
      },
      "execution_count": null,
      "outputs": []
    },
    {
      "cell_type": "code",
      "source": [
        "sorted_Evs = Filter_EVs.sort_values(\n",
        "by='Minimal price (gross) [PLN]', ascending = False)"
      ],
      "metadata": {
        "id": "sCgJ52NERHx-"
      },
      "execution_count": null,
      "outputs": []
    },
    {
      "cell_type": "code",
      "source": [
        "print(sorted_Evs[[\"Make\",\"Minimal price (gross) [PLN]\", \"Range (WLTP) [km]\"]])"
      ],
      "metadata": {
        "colab": {
          "base_uri": "https://localhost:8080/"
        },
        "id": "UpViImZ5ROSt",
        "outputId": "48e0d6d5-697e-425e-999e-5ddca60ba621"
      },
      "execution_count": null,
      "outputs": [
        {
          "output_type": "stream",
          "name": "stdout",
          "text": [
            "             Make  Minimal price (gross) [PLN]  Range (WLTP) [km]\n",
            "0            Audi                       345700                438\n",
            "22  Mercedes-Benz                       334700                414\n",
            "8             BMW                       282900                460\n",
            "41          Tesla                       260490                567\n",
            "40          Tesla                       235490                580\n",
            "49     Volkswagen                       202390                500\n",
            "39          Tesla                       195490                430\n",
            "48     Volkswagen                       179990                549\n",
            "15        Hyundai                       178400                449\n",
            "18            Kia                       167990                455\n",
            "20            Kia                       160990                452\n",
            "47     Volkswagen                       155890                425\n"
          ]
        }
      ]
    },
    {
      "cell_type": "markdown",
      "source": [
        "\n",
        "\n",
        "```\n",
        "# Insights\n",
        "```\n",
        "*   The Audi car has the minimal price of 3,45,700 with a range of 438.\n",
        "* then Mercedes-Benz , BMW, Tesla and so on... so, this are the car whose PLN\n",
        "*   are below 350,000 and EV with a range of >=400.\n",
        "\n",
        "\n",
        "\n"
      ],
      "metadata": {
        "id": "cCbQ_FiSD__V"
      }
    },
    {
      "cell_type": "markdown",
      "source": [
        "\n",
        "\n",
        "```\n",
        "# # b) & c)\n",
        "## Grouping the data based on manufacturer\n",
        "## with aggregate function to calculate the average of battery capacity\n",
        "## it gives average of battery capacity for each manufacturer\n",
        "```\n",
        "\n"
      ],
      "metadata": {
        "id": "IA7bzBcwEboK"
      }
    },
    {
      "cell_type": "code",
      "source": [
        "grouped = Filter_EVs.groupby('Make')[\"Battery capacity [kWh]\"].mean()\n",
        "\n",
        "# sorting a column in descending order to see the highest value\n",
        "\n",
        "sorted = grouped.sort_values(ascending = False)\n",
        "\n",
        "grouped_df = pd.DataFrame(sorted)\n",
        "\n",
        "print(grouped_df)\n"
      ],
      "metadata": {
        "id": "HSs4dh5ng74g",
        "colab": {
          "base_uri": "https://localhost:8080/"
        },
        "outputId": "9d878353-7e61-4eef-dd4f-f090cf57dafd"
      },
      "execution_count": null,
      "outputs": [
        {
          "output_type": "stream",
          "name": "stdout",
          "text": [
            "               Battery capacity [kWh]\n",
            "Make                                 \n",
            "Audi                        95.000000\n",
            "BMW                         80.000000\n",
            "Mercedes-Benz               80.000000\n",
            "Volkswagen                  70.666667\n",
            "Tesla                       68.000000\n",
            "Hyundai                     64.000000\n",
            "Kia                         64.000000\n"
          ]
        }
      ]
    },
    {
      "cell_type": "markdown",
      "source": [
        "\n",
        "\n",
        "```\n",
        "# Insights\n",
        "\n",
        "```\n",
        "\n",
        "\n",
        "* After calculating the average of battery cap.\n",
        "* it shows that the highest average battery cap. of a car is\n",
        "*   that of Audi cars, which is 95.000000.\n",
        "*   followed by BMW with an avg battery cap. of 80.000000, and so on.\n",
        "\n",
        "\n"
      ],
      "metadata": {
        "id": "QCLBUCQVCa_n"
      }
    },
    {
      "cell_type": "markdown",
      "source": [
        "## TASK 2"
      ],
      "metadata": {
        "id": "LEE2OiGQ3_a8"
      }
    },
    {
      "cell_type": "markdown",
      "source": [
        "\n",
        "\n",
        "```\n",
        "# a)\n",
        "## To find the percentile of mean-Engery Consumption [kWh/100 km]\n",
        "## calculating q1 and q3\n",
        "## 30th and 70th percentile\n",
        "```\n",
        "\n"
      ],
      "metadata": {
        "id": "3HHgk-fWE_44"
      }
    },
    {
      "cell_type": "code",
      "source": [
        "q1 = FEV_df['mean - Energy consumption [kWh/100 km]'].quantile(0.30) #30th\n",
        "q3 = FEV_df['mean - Energy consumption [kWh/100 km]'].quantile(0.70) #70th\n",
        "\n",
        "## calculate IQR(interquatile range)\n",
        "\n",
        "IQR = q3 - q1\n",
        "\n",
        "##define the outliers energy consumption\n",
        "\n",
        "Low_energy = q1 - 0.5 * IQR\n",
        "High_energy = q3 + 0.5 * IQR\n",
        "\n",
        "print(\"Q1:\", q1)\n",
        "print(\"Q3:\", q3)\n",
        "print(\"IQR:\", IQR)\n",
        "\n",
        "print(\"Low energy:\", Low_energy)\n",
        "print(\"High energy:\", High_energy)\n",
        "\n",
        "## Identify unusually high & low energy consumption\n",
        "\n",
        "outliers = FEV_df[\n",
        "    (FEV_df['mean - Energy consumption [kWh/100 km]'] < Low_energy) |\n",
        "    (FEV_df['mean - Energy consumption [kWh/100 km]'] > High_energy)]\n",
        "\n",
        "sorted_outliers = outliers.sort_values(\n",
        "    by='mean - Energy consumption [kWh/100 km]', ascending = False)\n",
        "\n",
        "print(\"\\nOutliers\", sorted_outliers[[\n",
        "    \"Make\",\"mean - Energy consumption [kWh/100 km]\"]])\n"
      ],
      "metadata": {
        "colab": {
          "base_uri": "https://localhost:8080/"
        },
        "id": "OoR00uI95IRL",
        "outputId": "5783aaba-e0b1-4e50-e903-3f4ccdf7a913"
      },
      "execution_count": null,
      "outputs": [
        {
          "output_type": "stream",
          "name": "stdout",
          "text": [
            "Q1: 15.88\n",
            "Q3: 21.994999999999997\n",
            "IQR: 6.114999999999997\n",
            "Low energy: 12.822500000000002\n",
            "High energy: 25.052499999999995\n",
            "\n",
            "Outliers              Make  mean - Energy consumption [kWh/100 km]\n",
            "51  Mercedes-Benz                                   28.20\n",
            "2            Audi                                   27.55\n",
            "5            Audi                                   27.20\n",
            "52         Nissan                                   25.90\n",
            "50        Citroën                                   25.20\n",
            "33        Porsche                                   25.10\n"
          ]
        }
      ]
    },
    {
      "cell_type": "markdown",
      "source": [
        "\n",
        "\n",
        "```\n",
        "# Insights\n",
        "```\n",
        "*   30th percentile (Q1) = 15.88\n",
        "*   70th percentile (Q3) = 21.994\n",
        "*   difference between 70th and 30th percentile is 6.11\n",
        "*   lower engery consumption is: 12.822\n",
        "*   high energy consumption is: 25.05\n",
        "\n",
        "\n",
        "\n",
        "\n",
        "\n",
        "\n",
        "\n",
        "\n"
      ],
      "metadata": {
        "id": "QOnE2H2_Bb_x"
      }
    },
    {
      "cell_type": "markdown",
      "source": [
        "\n",
        "\n",
        "```\n",
        "## b)\n",
        "## to plot box plot graph to understand the outliers\n",
        "\n",
        "```\n",
        "\n"
      ],
      "metadata": {
        "id": "liBLP0MEFHmp"
      }
    },
    {
      "cell_type": "markdown",
      "source": [
        "\n",
        "\n",
        "```\n",
        "# Relationship between Mean-Energy consumption and Manufacturer\n",
        "```\n",
        "\n"
      ],
      "metadata": {
        "id": "zTCnibKKghZh"
      }
    },
    {
      "cell_type": "code",
      "source": [
        "sns.set_style= (\"whitegrid\")\n",
        "sns.set_palatte= (\"husl\")\n",
        "\n",
        " ## it shows graph between mean - Energy consumption and Manufacturer(Make)\n",
        "\n",
        "sns.boxplot(x=\"mean - Energy consumption [kWh/100 km]\",\n",
        "y =\"Make\", data = FEV_df)\n",
        "\n",
        "plt.title(\"Mean Energy Consumption by Manufacturer\\n\")\n",
        "\n",
        "plt.show()\n"
      ],
      "metadata": {
        "colab": {
          "base_uri": "https://localhost:8080/",
          "height": 493
        },
        "id": "gsAS8ucJDD8v",
        "outputId": "c9ada426-a1d0-417c-974b-2b08a2178fc5"
      },
      "execution_count": null,
      "outputs": [
        {
          "output_type": "display_data",
          "data": {
            "text/plain": [
              "<Figure size 640x480 with 1 Axes>"
            ],
            "image/png": "[encoded data removed]"
          },
          "metadata": {}
        }
      ]
    },
    {
      "cell_type": "markdown",
      "source": [
        "\n",
        "\n",
        "```\n",
        "# Insights\n",
        "```\n",
        "\n",
        "\n",
        "*   Boxplots are useful for visualizing the distribution of data and identifying outliers.\n",
        "\n",
        "1.  Range of Energy Consumption:\n",
        "\n",
        "*  The energy consumption varies significantly across car brands.\n",
        "\n",
        "*  Tesla shows the lowest mean energy consumption, centered around 14 kWh/100 km.\n",
        "* Brands like Mercedes-Benz, Audi and Nissan have higher energy consumption means, often exceeding 22 kWh/100 km.\n",
        "\n",
        "2.   Outliers:\n",
        "\n",
        "*  Some brands, such as DS, Renault, Jaugar and Mini, display outliers in the graph. This suggests that specific models consume significantly more or less energy compared to the rest of the cars in the same brand."
      ],
      "metadata": {
        "id": "zSezjpFfBBR6"
      }
    },
    {
      "cell_type": "markdown",
      "source": [
        "## TASK 3"
      ],
      "metadata": {
        "id": "XAIRXmKMC-h5"
      }
    },
    {
      "cell_type": "markdown",
      "source": [
        "\n",
        "\n",
        "```\n",
        "## Create a suitable plot to visualize\n",
        "## strong relationship between battery capacity and range.\n",
        "\n",
        "## Scatter plot is best to visualize the relationship\n",
        "## between battery capacity and range\n",
        "```\n",
        "\n"
      ],
      "metadata": {
        "id": "byJHW4BBFNlK"
      }
    },
    {
      "cell_type": "code",
      "source": [
        "plt.figure(figsize=(8, 8))\n",
        "\n",
        "# regression line shows the positive correlation\n",
        "# between battery cap. and range\n",
        "\n",
        "sns.regplot(\n",
        "x = \"Battery capacity [kWh]\",\n",
        "y = \"Range (WLTP) [km]\", data = FEV_df\n",
        ")\n",
        "\n",
        "sns.scatterplot(\n",
        "x = \"Battery capacity [kWh]\",\n",
        "y = \"Range (WLTP) [km]\",\n",
        "data = FEV_df, hue = \"Make\"\n",
        ")\n",
        "\n",
        "plt.title(\"Battery capacity vs Range\")\n",
        "plt.legend(fontsize = \"small\")\n",
        "plt.title(\"Battery capacity vs Range\")\n",
        "plt.show()\n"
      ],
      "metadata": {
        "id": "trN5sa-B5IPM",
        "colab": {
          "base_uri": "https://localhost:8080/",
          "height": 718
        },
        "outputId": "f9be3d34-f7c6-4468-8b2d-06ebf91e49cf"
      },
      "execution_count": null,
      "outputs": [
        {
          "output_type": "display_data",
          "data": {
            "text/plain": [
              "<Figure size 800x800 with 1 Axes>"
            ],
            "image/png": "[encoded data removed]"
          },
          "metadata": {}
        }
      ]
    },
    {
      "cell_type": "markdown",
      "source": [
        "\n",
        "\n",
        "```\n",
        "# Insights:\n",
        "\n",
        "```\n",
        "\n",
        "*   A scatter plot paired with a regression line is a best choice for visualizing the relationship between two continuous variables, such as battery capacity and range.\n",
        "\n",
        "*   The graph illustrates a positive correlation, indicating that as battery capacity increases, the range of the car tends to increase proportionally. This trend is highlighted by the blue regression line, which represents the overall pattern of the data.\n",
        "\n",
        "*   Data points close to the regression line indicate cars that follow the expected trend of increasing range with increasing battery capacity, showing a strong relationship.\n",
        "\n",
        "*   Points far from the regression line represent outliers or vehicles that deviate from the trend.\n",
        "\n",
        "\n",
        "\n",
        "\n",
        "\n",
        "\n"
      ],
      "metadata": {
        "id": "_jXMbo8P9_79"
      }
    },
    {
      "cell_type": "markdown",
      "source": [
        "## TASK 4"
      ],
      "metadata": {
        "id": "1CaciI4VFTh7"
      }
    },
    {
      "cell_type": "markdown",
      "source": [
        "\n",
        "\n",
        "```\n",
        "# Build an EV recommendation class\n",
        "# user input\n",
        "```\n",
        "\n"
      ],
      "metadata": {
        "id": "_GR4xo7IFdp1"
      }
    },
    {
      "cell_type": "code",
      "source": [
        "class EVRecommendation:\n",
        "    def __init__(self, budget, desired_range, battery_capacity):\n",
        "\n",
        "        self.budget = budget\n",
        "        self.desired_range = desired_range\n",
        "        self.battery_capacity = battery_capacity\n",
        "\n",
        "    def recommendation(self):\n",
        "\n",
        "        # Filter EVs based on user criteria\n",
        "\n",
        "        filtered_evs = FEV_df[\n",
        "        (FEV_df['Minimal price (gross) [PLN]'] <= self.budget) &\n",
        "        (FEV_df['Range (WLTP) [km]'] >= self.desired_range) &\n",
        "        (FEV_df['Battery capacity [kWh]'] >= self.battery_capacity)\n",
        "        ]\n",
        "\n",
        "        # Sort the filtered EVs by battery capacity (descending)\n",
        "\n",
        "        sorted_evs = filtered_evs.sort_values(\n",
        "        by=\"Battery capacity [kWh]\", ascending=False\n",
        "        )\n",
        "\n",
        "        # Select the top 3 EVs\n",
        "\n",
        "        top_3_evs = sorted_evs.nlargest(3, \"Battery capacity [kWh]\")\n",
        "\n",
        "        return top_3_evs[['Car full name', 'Minimal price (gross) [PLN]',\n",
        "        'Range (WLTP) [km]', 'Battery capacity [kWh]']]\n",
        "\n",
        "ev_data = EVRecommendation(budget=300000, desired_range=400,\n",
        "battery_capacity=54.00)  # User input values\n",
        "\n",
        "top_3_cars = ev_data.recommendation()\n",
        "\n",
        "print(top_3_cars)\n"
      ],
      "metadata": {
        "colab": {
          "base_uri": "https://localhost:8080/"
        },
        "id": "BinXFI9-0lUd",
        "outputId": "b90495bf-3d91-4507-c077-dafbc3e4fffc"
      },
      "execution_count": null,
      "outputs": [
        {
          "output_type": "stream",
          "name": "stdout",
          "text": [
            "            Car full name  Minimal price (gross) [PLN]  Range (WLTP) [km]  \\\n",
            "8                 BMW iX3                       282900                460   \n",
            "48  Volkswagen ID.3 Pro S                       179990                549   \n",
            "49    Volkswagen ID.4 1st                       202390                500   \n",
            "\n",
            "    Battery capacity [kWh]  \n",
            "8                     80.0  \n",
            "48                    77.0  \n",
            "49                    77.0  \n"
          ]
        }
      ]
    },
    {
      "cell_type": "markdown",
      "source": [
        "\n",
        "\n",
        "```\n",
        "# Insights\n",
        "```\n",
        "\n",
        "\n",
        "*   the top 3 cars are: BMW iX3, Volkswagen ID.3 Pro S,  Volkswagen ID.4 1st  \n",
        "*   with Battery Capacity: 80.0, 77.0, 77.0\n",
        "\n",
        "*   with budget of 3,00,000 and range >= 400\n",
        "\n",
        "\n",
        "            \n",
        "\n",
        "\n",
        "\n"
      ],
      "metadata": {
        "id": "M_pw-0mZyrfd"
      }
    },
    {
      "cell_type": "markdown",
      "source": [
        "## TASK 5"
      ],
      "metadata": {
        "id": "k5nK7DHulsJu"
      }
    },
    {
      "cell_type": "code",
      "source": [
        "## Inferential Statistics – Hypothesis Testing\n",
        "\n",
        "from scipy.stats import ttest_ind\n",
        "\n",
        "## fetch the data for Tesla and Audi\n",
        "\n",
        "tesla_data = FEV_df[FEV_df['Make'] == 'Tesla']\n",
        "['Engine power [KM]'].dropna()\n",
        "\n",
        "audi_data = FEV_df[FEV_df['Make'] == 'Audi']\n",
        "['Engine power [KM]'].dropna()\n",
        "\n",
        "# print(\"Tesla\\n\",tesla_data)\n",
        "# print(\"Audi\\n\",audi_data)\n",
        "\n",
        "## to perform t-test for two sample\n",
        "\n",
        "t_stat, p_value = ttest_ind(tesla_data, audi_data)\n",
        "\n",
        "print(f\"T-statistic: {t_stat:.2f}\")\n",
        "\n",
        "print(f\"P-value: {p_value:.2f}\")\n",
        "\n",
        "print(\"\\nmean_tesla: \", tesla_data.mean())\n",
        "print(f\"mean_audi: {audi_data.mean():.2f}\")\n",
        "print(f\"\\nstd_tesla: {tesla_data.std():.2f}\")\n",
        "print(f\"std_audi: {audi_data.std():.2f}\")\n"
      ],
      "metadata": {
        "colab": {
          "base_uri": "https://localhost:8080/"
        },
        "id": "woElqC6Kltvm",
        "outputId": "8d216142-ff4d-41ad-bdbb-85fe1486547e"
      },
      "execution_count": null,
      "outputs": [
        {
          "output_type": "stream",
          "name": "stdout",
          "text": [
            "T-statistic: 1.70\n",
            "P-value: 0.12\n",
            "\n",
            "mean_tesla:  533.0\n",
            "mean_audi: 392.00\n",
            "\n",
            "std_tesla: 184.66\n",
            "std_audi: 88.51\n"
          ]
        }
      ]
    },
    {
      "cell_type": "code",
      "source": [
        "## to calculate the significance level\n",
        "\n",
        "CI = 0.95 ## CI = 0.95\n",
        "\n",
        "alpha = 1 - CI  ## 95% confidence interval\n",
        "\n",
        "print(f\"\\nalpha: {alpha:.2f}\")\n",
        "\n",
        "if p_value < alpha:  ## 0.12 < 0.05\n",
        "\n",
        "  print(\"\\nResult:\", \"Reject the null hypothesis.\")\n",
        "\n",
        "else:\n",
        "  print(\"\\nResult:\", \"Fail to reject the null hypothesis.\")\n",
        "\n",
        "# It fail to reject null hypothesis when it does not meets the criteria."
      ],
      "metadata": {
        "colab": {
          "base_uri": "https://localhost:8080/"
        },
        "id": "T616Ty5JtDF2",
        "outputId": "d392075d-62c5-4fb9-96ac-613d8b91a5ca"
      },
      "execution_count": null,
      "outputs": [
        {
          "output_type": "stream",
          "name": "stdout",
          "text": [
            "\n",
            "alpha: 0.05\n",
            "\n",
            "Result: Fail to reject the null hypothesis.\n"
          ]
        }
      ]
    },
    {
      "cell_type": "code",
      "source": [
        "#Insights and recommendation\n",
        "\n",
        "if tesla_data.mean() > audi_data.mean():\n",
        "\n",
        "## Tesla mean engine power is higher than Audi i.e. 533.0 > 392.00\n",
        "\n",
        "    print(\"Tesla's average engine power appears to be higher.\")\n",
        "else:\n",
        "    print(\"Audi's average engine power appears to be higher.\")"
      ],
      "metadata": {
        "colab": {
          "base_uri": "https://localhost:8080/"
        },
        "id": "ycW-w7vLtKuX",
        "outputId": "5b88b502-122c-4744-d24c-234602f244c6"
      },
      "execution_count": null,
      "outputs": [
        {
          "output_type": "stream",
          "name": "stdout",
          "text": [
            "Tesla's average engine power appears to be higher.\n"
          ]
        }
      ]
    },
    {
      "cell_type": "markdown",
      "source": [
        "\n",
        "\n",
        "```\n",
        "# Histrogram Chart\n",
        "```\n",
        "\n"
      ],
      "metadata": {
        "id": "LKaZpFrbmbYw"
      }
    },
    {
      "cell_type": "code",
      "source": [
        "## Build a graph to show the distribution of engine power\n",
        "\n",
        "plt.figure(figsize=(10, 6))\n",
        "plt.hist(\n",
        "    tesla_data, bins=10, alpha=0.7,\n",
        "         label='Tesla', color='blue',\n",
        "         edgecolor='black'\n",
        "         )\n",
        "\n",
        "plt.hist(\n",
        "    audi_data, bins=10, alpha=0.7,\n",
        "         label='Audi',\n",
        "         color='orange', edgecolor='black'\n",
        "         )\n",
        "\n",
        "plt.xlabel('Engine Power')\n",
        "plt.ylabel('Frequency')\n",
        "plt.title('Distribution of Engine Power for Tesla and Audi')\n",
        "plt.legend()\n",
        "plt.show()"
      ],
      "metadata": {
        "colab": {
          "base_uri": "https://localhost:8080/",
          "height": 564
        },
        "id": "za6WF8JTuJaO",
        "outputId": "cb1139ca-df24-42ef-d22b-665a39c4a64d"
      },
      "execution_count": null,
      "outputs": [
        {
          "output_type": "display_data",
          "data": {
            "text/plain": [
              "<Figure size 1000x600 with 1 Axes>"
            ],
            "image/png": "[encoded data removed]"
          },
          "metadata": {}
        }
      ]
    },
    {
      "cell_type": "markdown",
      "source": [
        "\n",
        "\n",
        "```\n",
        "# Insights and Recommendations\n",
        "```\n",
        "\n",
        "\n",
        "1. Engine Power Range of cars:\n",
        "\n",
        "*   Tesla has a broader range of engine power, between 300 to 700.\n",
        "*   Audi has a range between 300 to 500 only. It is comparatively lower than a Tesla car.\n",
        "\n",
        "2. Most Frequent Engine Power:\n",
        "\n",
        "*  Tesla's most frequent engine power is 500, with a frequency of 3.0.\n",
        "*  Audi has its highest frequency at both 300 and 400, each occurring twice.\n",
        "\n",
        "3. Unique Power Levels:\n",
        "\n",
        "*   Tesla has a unique engine power at 700, where Audi has no vehicles in that range.\n",
        "\n",
        "4. Recommendations:\n",
        "\n",
        "*  Audi cars need to expand their engine power options to compete with Tesla car.\n",
        "\n",
        "\n",
        "\n",
        "\n",
        "\n",
        "\n",
        "\n",
        "\n",
        "\n",
        "\n",
        "\n",
        "\n"
      ],
      "metadata": {
        "id": "KWJJh3fGvHnM"
      }
    },
    {
      "cell_type": "markdown",
      "source": [
        "\n",
        "\n",
        "```\n",
        "# Why Histrogram:\n",
        "```\n",
        "\n",
        "\n",
        "* because it effectively shows the distribution of engine power for Tesla and Audi.\n",
        "* Highlights differences and overlaps between Tesla and Audi in terms of power levels.\n",
        "\n",
        "* The histogram makes it easy to compare these distributions side-by-side.\n",
        "\n",
        "\n",
        "\n",
        "\n"
      ],
      "metadata": {
        "id": "mJ-QU5aln4Kn"
      }
    }
  ]
}